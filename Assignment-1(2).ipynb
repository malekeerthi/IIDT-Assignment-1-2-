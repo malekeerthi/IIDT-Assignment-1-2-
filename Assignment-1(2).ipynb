{
 "cells": [
  {
   "cell_type": "markdown",
   "id": "6e0c028d-5637-4241-81ec-9112a055d393",
   "metadata": {},
   "source": [
    "# Python Sets and Dictionaries Task"
   ]
  },
  {
   "cell_type": "code",
   "execution_count": 1,
   "id": "719d570f-4650-4b0d-9881-fc8ae50d3c72",
   "metadata": {},
   "outputs": [],
   "source": [
    "class DataAnalyzer:\n",
    "    def __init__(self):\n",
    "        self.dataset = set()\n",
    "        self.data_dict = {}\n",
    "\n",
    "    def add_to_set(self, item):\n",
    "        self.dataset.add(item)\n",
    "\n",
    "    def remove_from_set(self, item):\n",
    "        if item in self.dataset:\n",
    "            self.dataset.remove(item)\n",
    "        else:\n",
    "            print(\"Item not found in the set.\")\n",
    "\n",
    "    def get_set(self):\n",
    "        return self.dataset\n",
    "\n",
    "    def create_dictionary(self, key, value):\n",
    "        if key not in self.data_dict:\n",
    "            self.data_dict[key] = value\n",
    "        else:\n",
    "            print(\"Key already exists in the dictionary.\")\n",
    "\n",
    "    def update_dictionary(self, key, value):\n",
    "        if key in self.data_dict:\n",
    "            self.data_dict[key] = value\n",
    "        else:\n",
    "            print(\"Key not found in the dictionary.\")\n",
    "\n",
    "    def get_dictionary(self):\n",
    "        return self.data_dict\n",
    "\n",
    "    def search_dictionary(self, key):\n",
    "        if key in self.data_dict:\n",
    "            return self.data_dict[key]\n",
    "        else:\n",
    "            return None\n",
    "\n",
    "    def remove_from_dictionary(self, key):\n",
    "        if key in self.data_dict:\n",
    "            del self.data_dict[key]\n",
    "        else:\n",
    "            print(\"Key not found in the dictionary.\")\n",
    "\n",
    "\n",
    "# Example usage:\n",
    "\n",
    "analyzer = DataAnalyzer()"
   ]
  },
  {
   "cell_type": "code",
   "execution_count": 2,
   "id": "7b527cbd-00f1-488e-a04b-dd0d353a2b47",
   "metadata": {},
   "outputs": [
    {
     "name": "stdout",
     "output_type": "stream",
     "text": [
      "Set after adding items: {10, 20, 30}\n"
     ]
    }
   ],
   "source": [
    "# Adding items to the set\n",
    "analyzer.add_to_set(10)\n",
    "analyzer.add_to_set(20)\n",
    "analyzer.add_to_set(30)\n",
    "print(\"Set after adding items:\", analyzer.get_set())"
   ]
  },
  {
   "cell_type": "code",
   "execution_count": 3,
   "id": "e22ab469-66e7-4431-8a66-65b92cfe8d38",
   "metadata": {},
   "outputs": [
    {
     "name": "stdout",
     "output_type": "stream",
     "text": [
      "Set after removing item: {10, 30}\n"
     ]
    }
   ],
   "source": [
    "# Removing an item from the set\n",
    "analyzer.remove_from_set(20)\n",
    "print(\"Set after removing item:\", analyzer.get_set())"
   ]
  },
  {
   "cell_type": "code",
   "execution_count": 4,
   "id": "d280c223-fa88-4db2-bb71-ea3fff525303",
   "metadata": {},
   "outputs": [
    {
     "name": "stdout",
     "output_type": "stream",
     "text": [
      "Dictionary: {'a': 1, 'b': 2}\n"
     ]
    }
   ],
   "source": [
    "# Creating dictionary\n",
    "analyzer.create_dictionary('a', 1)\n",
    "analyzer.create_dictionary('b', 2)\n",
    "print(\"Dictionary:\", analyzer.get_dictionary())"
   ]
  },
  {
   "cell_type": "code",
   "execution_count": 5,
   "id": "96a1c7a2-1ab2-4ef7-ac09-edb0adbdf3c3",
   "metadata": {},
   "outputs": [
    {
     "name": "stdout",
     "output_type": "stream",
     "text": [
      "Updated Dictionary: {'a': 100, 'b': 2}\n"
     ]
    }
   ],
   "source": [
    "# Updating dictionary\n",
    "analyzer.update_dictionary('a', 100)\n",
    "print(\"Updated Dictionary:\", analyzer.get_dictionary())"
   ]
  },
  {
   "cell_type": "code",
   "execution_count": 6,
   "id": "fe5f18cf-d17a-4d8a-833b-22ec18c5f2ba",
   "metadata": {},
   "outputs": [
    {
     "name": "stdout",
     "output_type": "stream",
     "text": [
      "Value for key 'a': 100\n"
     ]
    }
   ],
   "source": [
    "# Searching dictionary\n",
    "print(\"Value for key 'a':\", analyzer.search_dictionary('a'))\n"
   ]
  },
  {
   "cell_type": "code",
   "execution_count": 7,
   "id": "9d53e885-8bd6-42af-b893-424eb0aa290d",
   "metadata": {},
   "outputs": [
    {
     "name": "stdout",
     "output_type": "stream",
     "text": [
      "Dictionary after removal: {'a': 100}\n"
     ]
    }
   ],
   "source": [
    "# Removing from dictionary\n",
    "analyzer.remove_from_dictionary('b')\n",
    "print(\"Dictionary after removal:\", analyzer.get_dictionary())"
   ]
  },
  {
   "cell_type": "code",
   "execution_count": null,
   "id": "3ab181ab-7df9-4f97-b9d3-eb31b3064411",
   "metadata": {},
   "outputs": [],
   "source": []
  }
 ],
 "metadata": {
  "kernelspec": {
   "display_name": "Python 3 (ipykernel)",
   "language": "python",
   "name": "python3"
  },
  "language_info": {
   "codemirror_mode": {
    "name": "ipython",
    "version": 3
   },
   "file_extension": ".py",
   "mimetype": "text/x-python",
   "name": "python",
   "nbconvert_exporter": "python",
   "pygments_lexer": "ipython3",
   "version": "3.11.7"
  }
 },
 "nbformat": 4,
 "nbformat_minor": 5
}
